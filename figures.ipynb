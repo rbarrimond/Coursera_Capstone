{
 "metadata": {
  "language_info": {
   "codemirror_mode": {
    "name": "ipython",
    "version": 3
   },
   "file_extension": ".py",
   "mimetype": "text/x-python",
   "name": "python",
   "nbconvert_exporter": "python",
   "pygments_lexer": "ipython3",
   "version": "3.9.5"
  },
  "orig_nbformat": 2,
  "kernelspec": {
   "name": "pythonjvsc74a57bd0e60263c6fb5c1600b69d5511e102ae3db91629821794ea8663f634b6a594e9fb",
   "display_name": "Python 3.9.5 64-bit ('venv': venv)"
  },
  "metadata": {
   "interpreter": {
    "hash": "e60263c6fb5c1600b69d5511e102ae3db91629821794ea8663f634b6a594e9fb"
   }
  }
 },
 "nbformat": 4,
 "nbformat_minor": 2,
 "cells": [
  {
   "cell_type": "code",
   "execution_count": null,
   "metadata": {},
   "outputs": [],
   "source": [
    "import pandas as pd\n",
    "import os\n",
    "import pickle\n",
    "\n",
    "for f in [ 'fsa_df.pkl', 'toronto_venue.pkl', 'restaurant.pkl', 'asian_restaurants.pkl' ]:\n",
    "    df = pd.read_pickle(df)\n",
    "    with ExcelWriter('tables.xlsx') as writer:\n",
    "        df.to_excel(writerm sheet=f)"
   ]
  }
 ]
}